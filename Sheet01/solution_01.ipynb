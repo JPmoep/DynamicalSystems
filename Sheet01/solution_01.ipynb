{
 "cells": [
  {
   "cell_type": "markdown",
   "metadata": {},
   "source": [
    "# Solution sheet 1\n",
    "## Exercise 1: solving ODEs\n",
    "   * $\\ddot{x}-2\\dot{x}+x=0$: see http://www.wolframalpha.com/input/?i=solve+x%27%27%2B2x%27%2Bx%3D0+for+x\n",
    "   * $\\ddot{x}+x=0$: see http://www.wolframalpha.com/input/?i=solve+x%27%27%2Bx%3D0+for+x, and also https://en.wikipedia.org/wiki/Harmonic_oscillator\n",
    "   * $t\\dot{x}-\\sqrt{1-x^{2}}=0$: see http://www.wolframalpha.com/input/?i=solve+t*x%27-sqrt(1-x%5E2)%3D0+for+x\n",
    "   * $\\dot{x}-\\frac{\\sqrt{1+x}}{t^{2}+4}=0$: see http://www.wolframalpha.com/input/?i=solve+x%27-sqrt(1%2Bx)%2F(t%5E2%2B4)%3D0+for+\n",
    "   * $\\dot{x}+\\sin t\\cdot x=\\cos t$: see http://www.wolframalpha.com/input/?i=solve+x%27%2Bsin(t)*x%3Dcos(t)+for+x\n",
    "   \n",
    "## Exercise 2: matrix exponentials\n",
    "Instead of solving the explicit example given on the exercise sheet, we will make up our own (random) one. The crucial observation here is that the given matrix is symmetric, and the approach is to diagonalize the matrix and then compute its matrix exponential in diagonal form. Let's start:"
   ]
  },
  {
   "cell_type": "code",
   "execution_count": 29,
   "metadata": {},
   "outputs": [
    {
     "data": {
      "text/plain": [
       "3×3 Array{Float64,2}:\n",
       " 0.751574   0.85082   0.0136832\n",
       " 0.648031   0.453541  0.281663 \n",
       " 0.0576884  0.462235  0.194564 "
      ]
     },
     "execution_count": 29,
     "metadata": {},
     "output_type": "execute_result"
    }
   ],
   "source": [
    "A = rand(3,3)"
   ]
  },
  {
   "cell_type": "markdown",
   "metadata": {},
   "source": [
    "Next, we symmetrize the matrix by replacing the lower triangular part by the uppertriangular part:"
   ]
  },
  {
   "cell_type": "code",
   "execution_count": 30,
   "metadata": {},
   "outputs": [
    {
     "data": {
      "text/plain": [
       "3×3 Symmetric{Float64,Array{Float64,2}}:\n",
       " 0.751574   0.85082   0.0136832\n",
       " 0.85082    0.453541  0.281663 \n",
       " 0.0136832  0.281663  0.194564 "
      ]
     },
     "execution_count": 30,
     "metadata": {},
     "output_type": "execute_result"
    }
   ],
   "source": [
    "A = Symmetric(A)"
   ]
  },
  {
   "cell_type": "markdown",
   "metadata": {},
   "source": [
    "and compute its eigenfactorization:"
   ]
  },
  {
   "cell_type": "code",
   "execution_count": 31,
   "metadata": {},
   "outputs": [
    {
     "data": {
      "text/plain": [
       "([-0.343809, 0.248379, 1.49511], [0.566871 -0.349871 0.74582; -0.735774 0.192177 0.649388; 0.370531 0.916874 0.148487])"
      ]
     },
     "execution_count": 31,
     "metadata": {},
     "output_type": "execute_result"
    }
   ],
   "source": [
    "E = eigfact(A) # E is an eigfact-structure\n",
    "λ = eigvals(E) # λ is the vector of eigenvalues (should be sorted from max to min, since A is symmetric)\n",
    "V = eigvecs(E) # V is the matrix whose columns correspond to the eigenvectors\n",
    "λ, V"
   ]
  },
  {
   "cell_type": "markdown",
   "metadata": {},
   "source": [
    "Let's see if the factorization is correct (up to numerical accuracy):"
   ]
  },
  {
   "cell_type": "code",
   "execution_count": 32,
   "metadata": {},
   "outputs": [
    {
     "data": {
      "text/plain": [
       "true"
      ]
     },
     "execution_count": 32,
     "metadata": {},
     "output_type": "execute_result"
    }
   ],
   "source": [
    "A ≈ V*Diagonal(λ)*V.'"
   ]
  },
  {
   "cell_type": "markdown",
   "metadata": {},
   "source": [
    "Finally, let's confirm the validity of the ansatz, that you would have calculated by hands given a sufficiently simple (stupid?) example:"
   ]
  },
  {
   "cell_type": "code",
   "execution_count": 33,
   "metadata": {},
   "outputs": [
    {
     "data": {
      "text/plain": [
       "true"
      ]
     },
     "execution_count": 33,
     "metadata": {},
     "output_type": "execute_result"
    }
   ],
   "source": [
    "expm(A) ≈ V*Diagonal(exp.(λ))*V.'"
   ]
  },
  {
   "cell_type": "markdown",
   "metadata": {},
   "source": [
    "As for the second example, the crucial observation is that the matrix is already given in Jordan normal form with a single Jordan block:"
   ]
  },
  {
   "cell_type": "code",
   "execution_count": 34,
   "metadata": {},
   "outputs": [
    {
     "data": {
      "text/plain": [
       "([0.0 1.0 0.0; 0.0 0.0 1.0; 0.0 0.0 0.0], [2.0 1.0 0.0; 0.0 2.0 1.0; 0.0 0.0 2.0])"
      ]
     },
     "execution_count": 34,
     "metadata": {},
     "output_type": "execute_result"
    }
   ],
   "source": [
    "N = diagm(ones(2),1)\n",
    "B = 2.0*eye(3) + N\n",
    "N, B"
   ]
  },
  {
   "cell_type": "markdown",
   "metadata": {},
   "source": [
    "Let's verify that `N` is indeed nilpotent:"
   ]
  },
  {
   "cell_type": "code",
   "execution_count": 35,
   "metadata": {},
   "outputs": [
    {
     "data": {
      "text/plain": [
       "true"
      ]
     },
     "execution_count": 35,
     "metadata": {},
     "output_type": "execute_result"
    }
   ],
   "source": [
    "N^3 == zero(N) # zero(N) returns the zero element of the type of N, in this case 3x3 matrices"
   ]
  },
  {
   "cell_type": "markdown",
   "metadata": {},
   "source": [
    "Since `B` and `N` commute (by the Jordan normal form theorem this is true in general), the matrix exponential of $\\exp(B)=\\exp(2I+N)=\\exp(2)\\exp(N)$, and the power series for $\\exp(N)$ is finite because it is nilpotent. Thus, we end up with:"
   ]
  },
  {
   "cell_type": "code",
   "execution_count": 36,
   "metadata": {},
   "outputs": [
    {
     "data": {
      "text/plain": [
       "true"
      ]
     },
     "execution_count": 36,
     "metadata": {},
     "output_type": "execute_result"
    }
   ],
   "source": [
    "expm(B) ≈ exp(2.)*eye(3)*(eye(3)+N+.5*N^2)"
   ]
  },
  {
   "cell_type": "markdown",
   "metadata": {},
   "source": [
    "The third example is quick. First, you easily verify that the matrix corresponds to the first-order ODE system corresponding to the harmonic oscillator discussed above. Now we make use of the fact that $\\exp(tC)$ is the solution operator of $\\dot{x} = Cx$. In our case, it must correspond to the rotation matrix.\n",
    "Let's start by defining a time-dependent function:"
   ]
  },
  {
   "cell_type": "code",
   "execution_count": 37,
   "metadata": {},
   "outputs": [
    {
     "data": {
      "text/plain": [
       "C (generic function with 1 method)"
      ]
     },
     "execution_count": 37,
     "metadata": {},
     "output_type": "execute_result"
    }
   ],
   "source": [
    "C(t) = t*[0. 1.; -1. 0.]"
   ]
  },
  {
   "cell_type": "markdown",
   "metadata": {},
   "source": [
    "Finally, we check for a couple of time instances:"
   ]
  },
  {
   "cell_type": "code",
   "execution_count": 38,
   "metadata": {},
   "outputs": [
    {
     "name": "stdout",
     "output_type": "stream",
     "text": [
      "expm(C(t)) ≈ [cos(t) sin(t); -(sin(t)) cos(t)] = true\n",
      "expm(C(t)) ≈ [cos(t) sin(t); -(sin(t)) cos(t)] = true\n",
      "expm(C(t)) ≈ [cos(t) sin(t); -(sin(t)) cos(t)] = true\n",
      "expm(C(t)) ≈ [cos(t) sin(t); -(sin(t)) cos(t)] = true\n",
      "expm(C(t)) ≈ [cos(t) sin(t); -(sin(t)) cos(t)] = true\n",
      "expm(C(t)) ≈ [cos(t) sin(t); -(sin(t)) cos(t)] = true\n",
      "expm(C(t)) ≈ [cos(t) sin(t); -(sin(t)) cos(t)] = true\n",
      "expm(C(t)) ≈ [cos(t) sin(t); -(sin(t)) cos(t)] = true\n",
      "expm(C(t)) ≈ [cos(t) sin(t); -(sin(t)) cos(t)] = true\n",
      "expm(C(t)) ≈ [cos(t) sin(t); -(sin(t)) cos(t)] = true\n",
      "expm(C(t)) ≈ [cos(t) sin(t); -(sin(t)) cos(t)] = true\n",
      "expm(C(t)) ≈ [cos(t) sin(t); -(sin(t)) cos(t)] = true\n",
      "expm(C(t)) ≈ [cos(t) sin(t); -(sin(t)) cos(t)] = true\n",
      "expm(C(t)) ≈ [cos(t) sin(t); -(sin(t)) cos(t)] = true\n",
      "expm(C(t)) ≈ [cos(t) sin(t); -(sin(t)) cos(t)] = true\n",
      "expm(C(t)) ≈ [cos(t) sin(t); -(sin(t)) cos(t)] = true\n",
      "expm(C(t)) ≈ [cos(t) sin(t); -(sin(t)) cos(t)] = true\n",
      "expm(C(t)) ≈ [cos(t) sin(t); -(sin(t)) cos(t)] = true\n",
      "expm(C(t)) ≈ [cos(t) sin(t); -(sin(t)) cos(t)] = true\n",
      "expm(C(t)) ≈ [cos(t) sin(t); -(sin(t)) cos(t)] = true\n"
     ]
    }
   ],
   "source": [
    "for t in linspace(0.,100.,20)\n",
    "    @show expm(C(t)) ≈ [cos(t) sin(t); -sin(t) cos(t)]\n",
    "end"
   ]
  },
  {
   "cell_type": "markdown",
   "metadata": {},
   "source": [
    "## Exercise 3: persistence of non-degenerate roots\n",
    "The problem was the following.\n",
    "Consider the following polynomial $p\\in C^1(I,\\mathbb{R})$ as an element of the continuously differentiable real-valued functions on $I\\subset\\mathbb{R}$, where $I$ is some reasonable compact interval:\n",
    "$$p_{\\alpha}\\colon x\\mapsto x^{2}+\\alpha.$$\n",
    "Show that for $\\alpha<0$ any root of $p_{\\alpha}$ persists under small perturbations. As a more specific, simpler case, consider the same $p_{\\alpha}$ and an $f\\in C^1(I,\\mathbb{R})$. Show that for $\\varepsilon$ with $\\lvert\\varepsilon\\rvert$ sufficiently small any $p_{\\alpha}+\\varepsilon f$ has (i) as many roots as $p_{\\alpha}$, which are (ii) close to those of $p_{\\alpha}$. What can we say for \\alpha=0? And what about \\alpha>0?\n",
    "\n",
    "For $\\alpha<0$, each root of $p_{\\alpha}$ is non-degenerate, i.e., it is isolated and the derivative of $p_{\\alpha}$ at the root doesn't vanish. The persistence of each root follows from an application of the Implicit Function Theorem to the function $F\\colon (\\varepsilon,x) \\mapsto p_{\\alpha}(x)+\\varepsilon f(x)$. Namely, $F$ is continuously differentiable in its second argument in an $\\mathbb{R}^2$-neighborhood of $(0,x^*)$, $F(0,x^*)=0$, and $\\partial_2F(0,x^*)\\neq 0$, where $x^*$ denotes any of the two roots of $p_{\\alpha}$. Then the IFT guarantees the existence of an implicit function $\\varepsilon\\mapsto x(\\varepsilon)$ such that $F(\\varepsilon,x(\\varepsilon))=0$, i.e., a continuation of the root. Moreover, any root is contained in the graph of the implicit function, so there are no others nearby. Away from the roots, the function $p_{\\alpha}$ has a finite distance to zero, which cannot be overcome by sufficiently small perturbations.\n",
    "The general case can be deduced from a Banach space-version of the IFT, applied to $F\\colon C^1(I,\\mathbb{R})\\times\\mathbb{R}\\to\\mathbb{R}$, $(f,x)\\mapsto p_{\\alpha}(x)+f(x)$. That is, for $f$ sufficiently small in the $C^1$-norm, the roots admit a continuously differentiable unique continuation, and no other root is created under perturbation.\n",
    "\n",
    "For $\\alpha\\geq0$, $p_{\\alpha}$ has either no root to begin with, or a degenerate one, which can be easily \"perturbed away\".\n",
    "\n",
    "So far for the theoretical part, please make sure you recall the Implicit Function Theorem and connect it to the above quick arguments.\n",
    "\n",
    "Let's finish this with a quick show of `julia`'s capabilities. :-) We aim at some visualization of the situation, so we need to load the `Plots` package and define a couple of obvious functions:"
   ]
  },
  {
   "cell_type": "code",
   "execution_count": 39,
   "metadata": {},
   "outputs": [
    {
     "data": {
      "text/plain": [
       "dpᵦ (generic function with 1 method)"
      ]
     },
     "execution_count": 39,
     "metadata": {},
     "output_type": "execute_result"
    }
   ],
   "source": [
    "using Plots\n",
    "β = -1.\n",
    "pᵦ(x) = x.*x+β\n",
    "root(β) = √(-β)\n",
    "dpᵦ(x) = 2.*x"
   ]
  },
  {
   "cell_type": "markdown",
   "metadata": {},
   "source": [
    "Next, we generate a linspace of `x` values over which we wish to plot, and plot (i) the parabola, (ii) the zero level set, and (iii) the linear approximation to the parabola at the root:"
   ]
  },
  {
   "cell_type": "code",
   "execution_count": 40,
   "metadata": {},
   "outputs": [
    {
     "data": {
      "image/svg+xml": [
       "<?xml version=\"1.0\" encoding=\"utf-8\"?>\n",
       "<svg xmlns=\"http://www.w3.org/2000/svg\" xmlns:xlink=\"http://www.w3.org/1999/xlink\" width=\"600\" height=\"400\" viewBox=\"0 0 600 400\">\n",
       "<defs>\n",
       "  <clipPath id=\"clip6300\">\n",
       "    <rect x=\"0\" y=\"0\" width=\"600\" height=\"400\"/>\n",
       "  </clipPath>\n",
       "</defs>\n",
       "<polygon clip-path=\"url(#clip6300)\" points=\"\n",
       "0,400 600,400 600,0 0,0 \n",
       "  \" fill=\"#ffffff\" fill-opacity=\"1\"/>\n",
       "<defs>\n",
       "  <clipPath id=\"clip6301\">\n",
       "    <rect x=\"120\" y=\"0\" width=\"421\" height=\"400\"/>\n",
       "  </clipPath>\n",
       "</defs>\n",
       "<polygon clip-path=\"url(#clip6300)\" points=\"\n",
       "122.862,375.869 486.919,375.869 486.919,11.811 122.862,11.811 \n",
       "  \" fill=\"#ffffff\" fill-opacity=\"1\"/>\n",
       "<defs>\n",
       "  <clipPath id=\"clip6302\">\n",
       "    <rect x=\"122\" y=\"11\" width=\"365\" height=\"365\"/>\n",
       "  </clipPath>\n",
       "</defs>\n",
       "<polyline clip-path=\"url(#clip6302)\" style=\"stroke:#000000; stroke-width:0.5; stroke-opacity:0.1; fill:none\" points=\"\n",
       "  122.862,375.869 122.862,11.811 \n",
       "  \"/>\n",
       "<polyline clip-path=\"url(#clip6302)\" style=\"stroke:#000000; stroke-width:0.5; stroke-opacity:0.1; fill:none\" points=\"\n",
       "  183.538,375.869 183.538,11.811 \n",
       "  \"/>\n",
       "<polyline clip-path=\"url(#clip6302)\" style=\"stroke:#000000; stroke-width:0.5; stroke-opacity:0.1; fill:none\" points=\"\n",
       "  244.214,375.869 244.214,11.811 \n",
       "  \"/>\n",
       "<polyline clip-path=\"url(#clip6302)\" style=\"stroke:#000000; stroke-width:0.5; stroke-opacity:0.1; fill:none\" points=\"\n",
       "  304.891,375.869 304.891,11.811 \n",
       "  \"/>\n",
       "<polyline clip-path=\"url(#clip6302)\" style=\"stroke:#000000; stroke-width:0.5; stroke-opacity:0.1; fill:none\" points=\"\n",
       "  365.567,375.869 365.567,11.811 \n",
       "  \"/>\n",
       "<polyline clip-path=\"url(#clip6302)\" style=\"stroke:#000000; stroke-width:0.5; stroke-opacity:0.1; fill:none\" points=\"\n",
       "  426.243,375.869 426.243,11.811 \n",
       "  \"/>\n",
       "<polyline clip-path=\"url(#clip6302)\" style=\"stroke:#000000; stroke-width:0.5; stroke-opacity:0.1; fill:none\" points=\"\n",
       "  486.919,375.869 486.919,11.811 \n",
       "  \"/>\n",
       "<polyline clip-path=\"url(#clip6302)\" style=\"stroke:#000000; stroke-width:0.5; stroke-opacity:0.1; fill:none\" points=\"\n",
       "  122.862,375.869 486.919,375.869 \n",
       "  \"/>\n",
       "<polyline clip-path=\"url(#clip6302)\" style=\"stroke:#000000; stroke-width:0.5; stroke-opacity:0.1; fill:none\" points=\"\n",
       "  122.862,315.192 486.919,315.192 \n",
       "  \"/>\n",
       "<polyline clip-path=\"url(#clip6302)\" style=\"stroke:#000000; stroke-width:0.5; stroke-opacity:0.1; fill:none\" points=\"\n",
       "  122.862,254.516 486.919,254.516 \n",
       "  \"/>\n",
       "<polyline clip-path=\"url(#clip6302)\" style=\"stroke:#000000; stroke-width:0.5; stroke-opacity:0.1; fill:none\" points=\"\n",
       "  122.862,193.84 486.919,193.84 \n",
       "  \"/>\n",
       "<polyline clip-path=\"url(#clip6302)\" style=\"stroke:#000000; stroke-width:0.5; stroke-opacity:0.1; fill:none\" points=\"\n",
       "  122.862,133.164 486.919,133.164 \n",
       "  \"/>\n",
       "<polyline clip-path=\"url(#clip6302)\" style=\"stroke:#000000; stroke-width:0.5; stroke-opacity:0.1; fill:none\" points=\"\n",
       "  122.862,72.4873 486.919,72.4873 \n",
       "  \"/>\n",
       "<polyline clip-path=\"url(#clip6302)\" style=\"stroke:#000000; stroke-width:0.5; stroke-opacity:0.1; fill:none\" points=\"\n",
       "  122.862,11.811 486.919,11.811 \n",
       "  \"/>\n",
       "<polyline clip-path=\"url(#clip6300)\" style=\"stroke:#000000; stroke-width:1; stroke-opacity:1; fill:none\" points=\"\n",
       "  122.862,375.869 486.919,375.869 \n",
       "  \"/>\n",
       "<polyline clip-path=\"url(#clip6300)\" style=\"stroke:#000000; stroke-width:1; stroke-opacity:1; fill:none\" points=\"\n",
       "  122.862,375.869 122.862,11.811 \n",
       "  \"/>\n",
       "<polyline clip-path=\"url(#clip6300)\" style=\"stroke:#000000; stroke-width:1; stroke-opacity:1; fill:none\" points=\"\n",
       "  122.862,375.869 122.862,370.408 \n",
       "  \"/>\n",
       "<polyline clip-path=\"url(#clip6300)\" style=\"stroke:#000000; stroke-width:1; stroke-opacity:1; fill:none\" points=\"\n",
       "  183.538,375.869 183.538,370.408 \n",
       "  \"/>\n",
       "<polyline clip-path=\"url(#clip6300)\" style=\"stroke:#000000; stroke-width:1; stroke-opacity:1; fill:none\" points=\"\n",
       "  244.214,375.869 244.214,370.408 \n",
       "  \"/>\n",
       "<polyline clip-path=\"url(#clip6300)\" style=\"stroke:#000000; stroke-width:1; stroke-opacity:1; fill:none\" points=\"\n",
       "  304.891,375.869 304.891,370.408 \n",
       "  \"/>\n",
       "<polyline clip-path=\"url(#clip6300)\" style=\"stroke:#000000; stroke-width:1; stroke-opacity:1; fill:none\" points=\"\n",
       "  365.567,375.869 365.567,370.408 \n",
       "  \"/>\n",
       "<polyline clip-path=\"url(#clip6300)\" style=\"stroke:#000000; stroke-width:1; stroke-opacity:1; fill:none\" points=\"\n",
       "  426.243,375.869 426.243,370.408 \n",
       "  \"/>\n",
       "<polyline clip-path=\"url(#clip6300)\" style=\"stroke:#000000; stroke-width:1; stroke-opacity:1; fill:none\" points=\"\n",
       "  486.919,375.869 486.919,370.408 \n",
       "  \"/>\n",
       "<polyline clip-path=\"url(#clip6300)\" style=\"stroke:#000000; stroke-width:1; stroke-opacity:1; fill:none\" points=\"\n",
       "  122.862,375.869 128.323,375.869 \n",
       "  \"/>\n",
       "<polyline clip-path=\"url(#clip6300)\" style=\"stroke:#000000; stroke-width:1; stroke-opacity:1; fill:none\" points=\"\n",
       "  122.862,315.192 128.323,315.192 \n",
       "  \"/>\n",
       "<polyline clip-path=\"url(#clip6300)\" style=\"stroke:#000000; stroke-width:1; stroke-opacity:1; fill:none\" points=\"\n",
       "  122.862,254.516 128.323,254.516 \n",
       "  \"/>\n",
       "<polyline clip-path=\"url(#clip6300)\" style=\"stroke:#000000; stroke-width:1; stroke-opacity:1; fill:none\" points=\"\n",
       "  122.862,193.84 128.323,193.84 \n",
       "  \"/>\n",
       "<polyline clip-path=\"url(#clip6300)\" style=\"stroke:#000000; stroke-width:1; stroke-opacity:1; fill:none\" points=\"\n",
       "  122.862,133.164 128.323,133.164 \n",
       "  \"/>\n",
       "<polyline clip-path=\"url(#clip6300)\" style=\"stroke:#000000; stroke-width:1; stroke-opacity:1; fill:none\" points=\"\n",
       "  122.862,72.4873 128.323,72.4873 \n",
       "  \"/>\n",
       "<polyline clip-path=\"url(#clip6300)\" style=\"stroke:#000000; stroke-width:1; stroke-opacity:1; fill:none\" points=\"\n",
       "  122.862,11.811 128.323,11.811 \n",
       "  \"/>\n",
       "<g clip-path=\"url(#clip6300)\">\n",
       "<text style=\"fill:#000000; fill-opacity:1; font-family:Arial,Helvetica Neue,Helvetica,sans-serif; font-size:12; text-anchor:middle;\" transform=\"rotate(0, 122.862, 389.669)\" x=\"122.862\" y=\"389.669\">-3</text>\n",
       "</g>\n",
       "<g clip-path=\"url(#clip6300)\">\n",
       "<text style=\"fill:#000000; fill-opacity:1; font-family:Arial,Helvetica Neue,Helvetica,sans-serif; font-size:12; text-anchor:middle;\" transform=\"rotate(0, 183.538, 389.669)\" x=\"183.538\" y=\"389.669\">-2</text>\n",
       "</g>\n",
       "<g clip-path=\"url(#clip6300)\">\n",
       "<text style=\"fill:#000000; fill-opacity:1; font-family:Arial,Helvetica Neue,Helvetica,sans-serif; font-size:12; text-anchor:middle;\" transform=\"rotate(0, 244.214, 389.669)\" x=\"244.214\" y=\"389.669\">-1</text>\n",
       "</g>\n",
       "<g clip-path=\"url(#clip6300)\">\n",
       "<text style=\"fill:#000000; fill-opacity:1; font-family:Arial,Helvetica Neue,Helvetica,sans-serif; font-size:12; text-anchor:middle;\" transform=\"rotate(0, 304.891, 389.669)\" x=\"304.891\" y=\"389.669\">0</text>\n",
       "</g>\n",
       "<g clip-path=\"url(#clip6300)\">\n",
       "<text style=\"fill:#000000; fill-opacity:1; font-family:Arial,Helvetica Neue,Helvetica,sans-serif; font-size:12; text-anchor:middle;\" transform=\"rotate(0, 365.567, 389.669)\" x=\"365.567\" y=\"389.669\">1</text>\n",
       "</g>\n",
       "<g clip-path=\"url(#clip6300)\">\n",
       "<text style=\"fill:#000000; fill-opacity:1; font-family:Arial,Helvetica Neue,Helvetica,sans-serif; font-size:12; text-anchor:middle;\" transform=\"rotate(0, 426.243, 389.669)\" x=\"426.243\" y=\"389.669\">2</text>\n",
       "</g>\n",
       "<g clip-path=\"url(#clip6300)\">\n",
       "<text style=\"fill:#000000; fill-opacity:1; font-family:Arial,Helvetica Neue,Helvetica,sans-serif; font-size:12; text-anchor:middle;\" transform=\"rotate(0, 486.919, 389.669)\" x=\"486.919\" y=\"389.669\">3</text>\n",
       "</g>\n",
       "<g clip-path=\"url(#clip6300)\">\n",
       "<text style=\"fill:#000000; fill-opacity:1; font-family:Arial,Helvetica Neue,Helvetica,sans-serif; font-size:12; text-anchor:end;\" transform=\"rotate(0, 116.862, 380.369)\" x=\"116.862\" y=\"380.369\">-3</text>\n",
       "</g>\n",
       "<g clip-path=\"url(#clip6300)\">\n",
       "<text style=\"fill:#000000; fill-opacity:1; font-family:Arial,Helvetica Neue,Helvetica,sans-serif; font-size:12; text-anchor:end;\" transform=\"rotate(0, 116.862, 319.692)\" x=\"116.862\" y=\"319.692\">-2</text>\n",
       "</g>\n",
       "<g clip-path=\"url(#clip6300)\">\n",
       "<text style=\"fill:#000000; fill-opacity:1; font-family:Arial,Helvetica Neue,Helvetica,sans-serif; font-size:12; text-anchor:end;\" transform=\"rotate(0, 116.862, 259.016)\" x=\"116.862\" y=\"259.016\">-1</text>\n",
       "</g>\n",
       "<g clip-path=\"url(#clip6300)\">\n",
       "<text style=\"fill:#000000; fill-opacity:1; font-family:Arial,Helvetica Neue,Helvetica,sans-serif; font-size:12; text-anchor:end;\" transform=\"rotate(0, 116.862, 198.34)\" x=\"116.862\" y=\"198.34\">0</text>\n",
       "</g>\n",
       "<g clip-path=\"url(#clip6300)\">\n",
       "<text style=\"fill:#000000; fill-opacity:1; font-family:Arial,Helvetica Neue,Helvetica,sans-serif; font-size:12; text-anchor:end;\" transform=\"rotate(0, 116.862, 137.664)\" x=\"116.862\" y=\"137.664\">1</text>\n",
       "</g>\n",
       "<g clip-path=\"url(#clip6300)\">\n",
       "<text style=\"fill:#000000; fill-opacity:1; font-family:Arial,Helvetica Neue,Helvetica,sans-serif; font-size:12; text-anchor:end;\" transform=\"rotate(0, 116.862, 76.9873)\" x=\"116.862\" y=\"76.9873\">2</text>\n",
       "</g>\n",
       "<g clip-path=\"url(#clip6300)\">\n",
       "<text style=\"fill:#000000; fill-opacity:1; font-family:Arial,Helvetica Neue,Helvetica,sans-serif; font-size:12; text-anchor:end;\" transform=\"rotate(0, 116.862, 16.311)\" x=\"116.862\" y=\"16.311\">3</text>\n",
       "</g>\n",
       "<polyline clip-path=\"url(#clip6302)\" style=\"stroke:#009af9; stroke-width:1; stroke-opacity:1; fill:none\" points=\"\n",
       "  122.862,-291.57 130.291,-247.902 137.721,-206.052 145.151,-166.023 152.581,-127.813 160.01,-91.422 167.44,-56.851 174.87,-24.0994 182.3,6.83259 189.729,35.9451 \n",
       "  197.159,63.238 204.589,88.7114 212.019,112.365 219.448,134.2 226.878,154.215 234.308,172.41 241.738,188.786 249.167,203.342 256.597,216.079 264.027,226.996 \n",
       "  271.457,236.093 278.886,243.372 286.316,248.83 293.746,252.469 301.176,254.289 308.605,254.289 316.035,252.469 323.465,248.83 330.895,243.372 338.324,236.093 \n",
       "  345.754,226.996 353.184,216.079 360.614,203.342 368.043,188.786 375.473,172.41 382.903,154.215 390.333,134.2 397.762,112.365 405.192,88.7114 412.622,63.238 \n",
       "  420.052,35.9451 427.481,6.83259 434.911,-24.0994 442.341,-56.851 449.771,-91.422 457.2,-127.813 464.63,-166.023 472.06,-206.052 479.49,-247.902 486.919,-291.57 \n",
       "  \n",
       "  \"/>\n",
       "<polyline clip-path=\"url(#clip6302)\" style=\"stroke:#e26f46; stroke-width:1; stroke-opacity:1; fill:none\" points=\"\n",
       "  122.862,193.84 130.291,193.84 137.721,193.84 145.151,193.84 152.581,193.84 160.01,193.84 167.44,193.84 174.87,193.84 182.3,193.84 189.729,193.84 \n",
       "  197.159,193.84 204.589,193.84 212.019,193.84 219.448,193.84 226.878,193.84 234.308,193.84 241.738,193.84 249.167,193.84 256.597,193.84 264.027,193.84 \n",
       "  271.457,193.84 278.886,193.84 286.316,193.84 293.746,193.84 301.176,193.84 308.605,193.84 316.035,193.84 323.465,193.84 330.895,193.84 338.324,193.84 \n",
       "  345.754,193.84 353.184,193.84 360.614,193.84 368.043,193.84 375.473,193.84 382.903,193.84 390.333,193.84 397.762,193.84 405.192,193.84 412.622,193.84 \n",
       "  420.052,193.84 427.481,193.84 434.911,193.84 442.341,193.84 449.771,193.84 457.2,193.84 464.63,193.84 472.06,193.84 479.49,193.84 486.919,193.84 \n",
       "  \n",
       "  \"/>\n",
       "<polyline clip-path=\"url(#clip6302)\" style=\"stroke:#3da44d; stroke-width:1; stroke-opacity:1; fill:none\" points=\"\n",
       "  122.862,679.25 130.291,664.391 137.721,649.531 145.151,634.672 152.581,619.812 160.01,604.953 167.44,590.093 174.87,575.234 182.3,560.374 189.729,545.515 \n",
       "  197.159,530.655 204.589,515.796 212.019,500.936 219.448,486.077 226.878,471.217 234.308,456.358 241.738,441.498 249.167,426.639 256.597,411.779 264.027,396.92 \n",
       "  271.457,382.06 278.886,367.201 286.316,352.341 293.746,337.482 301.176,322.622 308.605,307.763 316.035,292.903 323.465,278.044 330.895,263.184 338.324,248.325 \n",
       "  345.754,233.465 353.184,218.606 360.614,203.746 368.043,188.887 375.473,174.027 382.903,159.168 390.333,144.308 397.762,129.449 405.192,114.589 412.622,99.7297 \n",
       "  420.052,84.8702 427.481,70.0107 434.911,55.1512 442.341,40.2917 449.771,25.4322 457.2,10.5727 464.63,-4.28676 472.06,-19.1463 479.49,-34.0058 486.919,-48.8653 \n",
       "  \n",
       "  \"/>\n",
       "</svg>\n"
      ]
     },
     "execution_count": 40,
     "metadata": {},
     "output_type": "execute_result"
    }
   ],
   "source": [
    "x = linspace(-3.,3.,50)\n",
    "plot(x,pᵦ(x),ylims=(-3.,3.),aspect_ratio=1,leg=false)\n",
    "plot!(x,zeros(x))\n",
    "plot!(x,dpᵦ(root(β))*(x-root(β)))"
   ]
  },
  {
   "cell_type": "markdown",
   "metadata": {},
   "source": [
    "The partial derivative condition in the IFT corresponds to checking whether the green line is the graph of an isomorphism from $\\mathbb{R}$ to $\\mathbb{R}$. This is clearly satisfied only for $\\beta\\neq 0$. To finish, let's make a fancy animation for $\\beta$ between 0 and -3:"
   ]
  },
  {
   "cell_type": "code",
   "execution_count": 41,
   "metadata": {},
   "outputs": [
    {
     "data": {
      "text/plain": [
       "Plots.Animation(\"/var/folders/47/d2s07wmn4bx5y2lq0qsjgsyw0000gn/T/tmpk0RSYX\", String[\"000001.png\", \"000002.png\", \"000003.png\", \"000004.png\", \"000005.png\", \"000006.png\", \"000007.png\", \"000008.png\", \"000009.png\", \"000010.png\"  …  \"000291.png\", \"000292.png\", \"000293.png\", \"000294.png\", \"000295.png\", \"000296.png\", \"000297.png\", \"000298.png\", \"000299.png\", \"000300.png\"])"
      ]
     },
     "execution_count": 41,
     "metadata": {},
     "output_type": "execute_result"
    }
   ],
   "source": [
    "anim = @animate for β in linspace(0.,-3.,300)\n",
    "    plot(x,pᵦ(x),xlims=(-3.,3.),ylims=(-3.,3.),\n",
    "                    title=\"beta = $(round(β,3))\")\n",
    "    plot!(x,zeros(x),leg=false)\n",
    "    plot!(x,dpᵦ(root(β))*(x-root(β)))\n",
    "end"
   ]
  },
  {
   "cell_type": "markdown",
   "metadata": {},
   "source": [
    "Lastly, we can safe the animation:"
   ]
  },
  {
   "cell_type": "code",
   "execution_count": null,
   "metadata": {},
   "outputs": [],
   "source": [
    "gif(anim,\"parabola.gif\",fps=30)"
   ]
  },
  {
   "cell_type": "markdown",
   "metadata": {},
   "source": [
    "Probably, the gif is not showing in the notebook, but you can find the result in the folder."
   ]
  },
  {
   "cell_type": "code",
   "execution_count": null,
   "metadata": {},
   "outputs": [],
   "source": []
  }
 ],
 "metadata": {
  "kernelspec": {
   "display_name": "Julia 0.6.2",
   "language": "julia",
   "name": "julia-0.6"
  },
  "language_info": {
   "file_extension": ".jl",
   "mimetype": "application/julia",
   "name": "julia",
   "version": "0.6.2"
  }
 },
 "nbformat": 4,
 "nbformat_minor": 2
}
