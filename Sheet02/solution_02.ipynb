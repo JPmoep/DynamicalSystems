{
 "cells": [
  {
   "cell_type": "markdown",
   "metadata": {},
   "source": [
    "# Solution hints for exercise sheet 2\n",
    "\n",
    "## Exercise 1\n",
    "Besides checking the conditions for a dynamical system, please make sure that you get an intuition as to why these conditions are meaningful in the first place. And so, the conditions are that $\\varphi_0 = \\text{id}$ and $\\varphi_t\\circ\\varphi_s = \\varphi_{t+s}$ for any $t,s\\in\\mathcal{T}$. Usually, each $\\varphi_t$ is required to have some additional regularity like measurability, continuity or smoothness, consistent with the regularity structure of the space that the $\\varphi$'s act on.\n",
    "1. It is straightforward to check that $\\varphi_0 \\neq \\text{id}$. Therefore, this cannot be a dynamical system.\n",
    "2. There are two options here:\n",
    "   * You check the algebraic conditions by hand, making use of [angle sum identities/Additionstheoreme](https://en.wikipedia.org/wiki/List_of_trigonometric_identities#Angle_sum_and_difference_identities), to verify that this is indeed a dynamical system.\n",
    "   * You realize that the given dynamical system candidate is the backward solution of the well-posed harmonic oscillator equation, i.e., $\\varphi_t=\\varphi_{-t}^{\\text{osc}}$, from which it directly follows that this is a dynamical system (recall, that general solutions to well-posed ODEs form dynamical systems).\n",
    "\n",
    "## Exercise 2\n",
    "You can solve the differential equation for any initial condition up to the zeros of the rhs using the separation of variables approach [Wolfram Alpha](http://www.wolframalpha.com/input/?i=solve+x%27+%3D+x*log(x)). This approach gives a valid solution formula until a solution possibly hits the equilibrium. The zeros of the rhs, however, correspond exactly to equilibria of the dynamical system.\n",
    "\n",
    "The rhs function vanishes obviously at $x=1$. Moreover, it can be continuously extended to $x=0$ by the function value $0$ (check with L'Hopital). Therefore, the two equilibria are 0 and 1. We need to clarify, however, on which domain the ODE is guaranteed to be well-posed. For any equilibrium that falls into that domain we are guaranteed that no solution can attain it, since this would violate uniqueness of solutions. Make sure you follow this argument: as I exaggerated in the tutorial session, violation-of-uniqueness-of-solutions is one word, and you should be able to use this argument. To this end, we need local Lipschitz-continuity, which holds for $x>0$, but fails for $x=0$. This means, that we may have distinct solutions growing out of $x_0=0$. For that reason, it is safer to exclude 0 from the domain of the dynamical system, unless we had alternative arguments for the uniqueness of the equilibrium solution $x=0$.\n",
    "\n",
    "## Exercise 3\n",
    "1. Prove by contradiction, assuming that $S$ is positively invariant and $\\mathcal{X}\\setminus S$ is not negatively invariant.\n",
    "2. This is clear since $(-1,1)^{\\top}$ is an eigenvector of the system's matrix:"
   ]
  },
  {
   "cell_type": "code",
   "execution_count": 1,
   "metadata": {},
   "outputs": [
    {
     "data": {
      "text/plain": [
       "true"
      ]
     },
     "execution_count": 1,
     "metadata": {},
     "output_type": "execute_result"
    }
   ],
   "source": [
    "A = [-2.0 -1.0; 1.0 0.0]\n",
    "v = [-1.0, 1.0]\n",
    "A*v == -1.0*v"
   ]
  },
  {
   "cell_type": "markdown",
   "metadata": {},
   "source": [
    "3. (This should be a 3., but markdown does its own counting; sorry for the inconvenience :-)) This is probably best shown by tracking the value of $E$ along solutions of the pendulum equation, which satisfy\n",
    "\n",
    "    $\\ddot{x}+\\sin x =0$.\n",
    "\n",
    "    To have that level sets of $E$ are invariant, this value should not change along orbits, so we need to verify that\n",
    "\n",
    "    $\\left(t\\mapsto E\\left(\\varphi_t(x_0),\\partial_s\\varphi_s(x_0)\\bigr|_{s=t}\\right)\\right)'= 0,$\n",
    "\n",
    "    which is straightforward.\n",
    "\n",
    "## Exercise 4\n",
    "Both exercises are straightforward: in the first one, you verify the condition of Lyapunov's stability criterion for some appropriate choice of $\\alpha, \\beta, \\gamma>0$, in the second you apply LaSalle's invariance principle.\n",
    "\n",
    "## Numerical excursions\n",
    "Let's look at a simple ODE example--the linear example above--and plot a phase portrait."
   ]
  },
  {
   "cell_type": "code",
   "execution_count": 2,
   "metadata": {},
   "outputs": [],
   "source": [
    "using OrdinaryDiffEq, Plots\n",
    "\n",
    "rhs = (u,p,t) -> A*u\n",
    "α = linspace(0,2π,20)\n",
    "x0 = [[cos(a), sin(a)] for a in α] # this is a list of initial conditions\n",
    "prob = ODEProblem(rhs,[0.0, 0.0],(0.0, 2.0))\n",
    "sol = solve(prob,Tsit5())\n",
    "fig = plot(sol,vars=(1,2),leg=false,xlims=(-1., 1.),ylims=(-1., 1.))\n",
    "for x in x0\n",
    "    prob = ODEProblem(rhs,x,(0.0, 10.0))\n",
    "    sol = solve(prob,Tsit5())\n",
    "    plot!(sol,vars=(1,2),xlims=(-1., 1.),ylims=(-1., 1.))\n",
    "end\n",
    "plot(fig)\n",
    "# png(fig,\"phase_portrait\")"
   ]
  },
  {
   "cell_type": "markdown",
   "metadata": {},
   "source": [
    "[Phase portrait](phase_portrait.png)\n",
    "\n",
    "As for how to use Julia's DynamicalSystems.jl package, see this wonderful [introductory notebook](https://github.com/JuliaDynamics/tutorials/blob/master/1.%20Creating%20a%20dynamical%20system.ipynb)."
   ]
  },
  {
   "cell_type": "code",
   "execution_count": null,
   "metadata": {},
   "outputs": [],
   "source": []
  }
 ],
 "metadata": {
  "kernelspec": {
   "display_name": "Julia 0.6.2",
   "language": "julia",
   "name": "julia-0.6"
  },
  "language_info": {
   "file_extension": ".jl",
   "mimetype": "application/julia",
   "name": "julia",
   "version": "0.6.2"
  }
 },
 "nbformat": 4,
 "nbformat_minor": 2
}
