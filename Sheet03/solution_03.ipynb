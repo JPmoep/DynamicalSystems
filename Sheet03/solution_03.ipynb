{
 "cells": [
  {
   "cell_type": "markdown",
   "metadata": {},
   "source": [
    "# Solution hints for exercise sheet 3\n",
    "\n",
    "## Exercise 1\n",
    "\n",
    "The stability of linear systems is determined by the corresponding eigenvalues. It is straightforward to see that the eigenvalues of any $2\\times 2$ matrix $A$ are given by\n",
    "\n",
    "$$\\lambda_{1/2} = \\frac{\\text{trace}(A)\\pm\\sqrt{(\\text{trace}(A))^2-4\\det A}}{2}.$$\n",
    "\n",
    "For stability, we need that both eigenvalues have negative real part, instability follows from at least one eigenvalue with positive real part. From this, the following figure (taken from Wikipedia) is easy to obtain.\n",
    "\n",
    "[Parameter plot](parameter_plot.jpeg)\n",
    "\n",
    "## Exercise 2\n",
    "To find the fixed points, we need to solve the equation\n",
    "\n",
    "$$rx(1-x)=x,$$\n",
    "\n",
    "which is straightforward to do. For stability, one needs to check whether $\\lvert p'(x)\\rvert<1$, and one finds that the origin is stable for $0\\leq r<1$, and unstable for $r>1$. The other fixed point, which only exists for $r>1$, is stable for $1<r<3$.\n",
    "\n",
    "To find a 2-periodic orbit, we need to find fixed points under the double iteration map, i.e.,\n",
    "$$ p\\circ p(x) = x.$$\n",
    "This is a quartic polynomial root solving problem, which may have up to four solutions. It becomes handy to observe that the fixed points of $p$ are fixed points of $p^2$, of course. We may use that to factor out corresponding linear factors, which conveniently reduces the problem to a quadratic polynomial root finding problem, for which we have a solution formula. One quickly checks that the found solution indeed lies within the unit interval and forms a valid 2-periodic orbit.\n",
    "\n",
    "From a visualization point of view, there are two nice opportunities. As I said in the tutorial class: USE GRAPHICS TO GUIDE YOUR INTUITION AND TO SOLVE THE PROBLEMS!\n",
    "\n",
    "First, we can take a look at the graph of $p$ for different values of $r$."
   ]
  },
  {
   "cell_type": "code",
   "execution_count": 1,
   "metadata": {},
   "outputs": [
    {
     "name": "stderr",
     "output_type": "stream",
     "text": [
      "\u001b[1m\u001b[36mINFO: \u001b[39m\u001b[22m\u001b[36mSaved animation to /Users/karrasch/LRZ Sync+Share/Lehre/18-Dynamical_systems/Assignments/Sheet03/logistic.mp4\n",
      "\u001b[39m"
     ]
    }
   ],
   "source": [
    "using Plots\n",
    "x = linspace(0.,1.,200)\n",
    "anim = Plots.@animate for r in linspace(0.,3.3,330)\n",
    "    Plots.plot(x,r*x.*(1-x),xlims=(0.,1.),ylims=(0.,1.),leg=false,title=\"r = $(round(r,2))\")\n",
    "    Plots.plot!(x,x,xlims=(0.,1.),ylims=(0.,1.),leg=false)\n",
    "    Plots.plot!(x,r*x,color= r<1 ? [:green] : [:red],xlims=(0.,1.),ylims=(0.,1.),leg=false)\n",
    "    if r>1\n",
    "        Plots.plot!(x,1-1/r+r*(1-2*(1-1/r))*(x-1+1/r),xlims=(0.,1.),ylims=(0.,1.),leg=false, color= r<3 ? [:green] : [:red])\n",
    "    end\n",
    "end\n",
    "Plots.mp4(anim,\"logistic.mp4\",fps=30);"
   ]
  },
  {
   "cell_type": "markdown",
   "metadata": {},
   "source": [
    "[Logistic map](logistic.mp4)\n",
    "\n",
    "Consistently with the algebraic analysis discussed above, for $r<1$ there is only one intersection with the graph of the identity map, which correspond to fixed points. For increasing $r$, the second fixed point grows out of 0 at $r=1$. Henceforth, the origin is unstable (red), as seen from the slope of the tangent line. The slope of the tangent at the new fixed point decreases from 1 to -1 for r from 1 to 3, and looses stability at $r=3$.\n",
    "\n",
    "Let's take a look at asymptotic dynamics. To this end, we make use of awesome features of the `DynamicalSystems.jl` package. The idea is to take a bunch of random initial conditions, iterate them many many times, and plot, say, the 2,000th to 2,010th iterations. This is to ignore transient behavior which is due to different initial conditions, and to capture asymptotic behavior."
   ]
  },
  {
   "cell_type": "code",
   "execution_count": 2,
   "metadata": {},
   "outputs": [],
   "source": [
    "using DynamicalSystems\n",
    "logimap = Systems.logistic()\n",
    "\n",
    "function bf(pvalues, n, Ttr)\n",
    "    logi = Systems.logistic()\n",
    "    output = orbitdiagram(logi, 1, 1, pvalues; n = n, Ttr = Ttr)\n",
    "    fig = plot()\n",
    "    for (j, p) in enumerate(pvalues)\n",
    "        scatter!(p .* ones(output[j]), output[j],leg=false,\n",
    "        marker = :solid, ms = 1, color = [:blue],xlabel = \"r\", ylabel=\"x\",xlims=(0.,3.3))\n",
    "    end\n",
    "    return fig\n",
    "end\n",
    "\n",
    "fig = bf(linspace(0.0, 3.3, 1000), 10, 2000) # linspace = parameter space, 10 = plotted no. of iterations, 2000 = ignored transients\n",
    "png(fig,\"logistic_bif.png\")\n",
    "plot(fig);"
   ]
  },
  {
   "cell_type": "markdown",
   "metadata": {},
   "source": [
    "[Bifurcation diagram of logistic map](logistic_bif.png)\n",
    "\n",
    "As we know from our algebraic analysis, the \"visible\" branches don't just disappear, they just become unstable. It would be nice to complete the picture with the unstable branches of fixed points, ideally without using the formulae: numerical continuation of unstable fixed points! Up for a coffee?"
   ]
  },
  {
   "cell_type": "markdown",
   "metadata": {},
   "source": [
    "## Exercise 3\n",
    "The persistence of the hyperbolic equilibrium can be shown along the lines of Exercise 3 on sheet 1. Indeed, a hyperbolic equilibrium must have an invertible derivative and can be hence continued by a continuous implicit function. The persistence of the stability type (i.e., the persistence of the number of eigenvalues with positive and negative real parts, respectively) follows easily from continuity considerations.\n",
    "\n",
    "Altogether, the persistence of hyperbolic equilibria under perturbations is one very strong \"justification\" of the concept of hyperbolicity, besides the invariant manifold and the Hartman-Grobman theorem. Hyperbolicity and its consequences for dynamical systems cannot be overappreciated, so please make sure you develop enough appreciation. :-)\n",
    "\n",
    "## Exercise 4\n",
    "First, what is a phase portrait for a one-dimensional flow? It's a plot on the real line with dots (for equilibria) and arrows, indicating the direction of motion for moving trajectories. Very importantly, there is no time-axis!\n",
    "\n",
    "For one-dimensional ODEs, start with plotting the graph of the rhs. Draw dots for zeros of the rhs, as these are univocally equilibria. As for the arrows, look whether the graph is above or below the line, then the arrows have to point to the right and the left, respectively.\n",
    "\n",
    "So far, so good. There are now two interesting aspects of equilibria that one can address: (i) stability, and (ii) hyperbolicity. For stability, the arrows both on the left and on the right of the equilibrium need to point *towards* the equilibrium, otherwise the equilibrium is unstable. For hyperbolicity, the derivative of the rhs *must not vanish*. Make sure you connect these things with the definition of stability and hyperbolicity. Also, make clear the connection between lack of hyperbolicity and lack of persistence à la Exercise 3 on sheet 1 and sheet 3.\n",
    "\n",
    "Following these rules, the exercise is easily solved by drawing all possible locations of the graph of some cubic polynomial with positive cubic coefficient. Hm, but why actually? More specifically, why wouldn't we distinguish the phase portraits of some specific polynomial $p$ and a horizontally shifted one $x\\mapsto p(x-c)$?"
   ]
  },
  {
   "cell_type": "code",
   "execution_count": null,
   "metadata": {},
   "outputs": [],
   "source": []
  }
 ],
 "metadata": {
  "kernelspec": {
   "display_name": "Julia 0.6.2",
   "language": "julia",
   "name": "julia-0.6"
  },
  "language_info": {
   "file_extension": ".jl",
   "mimetype": "application/julia",
   "name": "julia",
   "version": "0.6.2"
  }
 },
 "nbformat": 4,
 "nbformat_minor": 2
}
